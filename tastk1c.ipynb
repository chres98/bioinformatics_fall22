{
 "cells": [
  {
   "cell_type": "code",
   "execution_count": 10,
   "metadata": {},
   "outputs": [],
   "source": [
    "from Bio import SeqIO\n",
    "from anarci import anarci, number"
   ]
  },
  {
   "cell_type": "code",
   "execution_count": 4,
   "metadata": {},
   "outputs": [],
   "source": [
    "h_sequences = SeqIO.parse(\"data/human.fa\", \"fasta\")\n",
    "h_input = []\n",
    "\n",
    "for seq in h_sequences:\n",
    "    h_input.append(tuple((seq.id, str(seq.seq))))"
   ]
  },
  {
   "cell_type": "code",
   "execution_count": 23,
   "metadata": {},
   "outputs": [],
   "source": [
    "h_results = anarci(h_input, scheme='imgt')"
   ]
  },
  {
   "cell_type": "code",
   "execution_count": 6,
   "metadata": {},
   "outputs": [],
   "source": [
    "numbering, alignment_details, hit_tables = h_results"
   ]
  },
  {
   "cell_type": "code",
   "execution_count": 7,
   "metadata": {},
   "outputs": [],
   "source": [
    "assert len(numbering) == len(alignment_details) == len(hit_tables) == len(h_input)"
   ]
  },
  {
   "cell_type": "code",
   "execution_count": 13,
   "metadata": {},
   "outputs": [
    {
     "name": "stdout",
     "output_type": "stream",
     "text": [
      "ANARCI numbered 4\n",
      "It identified 1 domain(s)\n",
      "This is the IMGT numbering for the 0'th domain: [((1, ' '), 'E'), ((2, ' '), 'V'), ((3, ' '), 'Q'), ((4, ' '), 'L'), ((5, ' '), 'V'), ((6, ' '), 'E'), ((7, ' '), 'S'), ((8, ' '), 'G'), ((9, ' '), 'G'), ((10, ' '), '-'), ((11, ' '), 'G'), ((12, ' '), 'L'), ((13, ' '), 'V'), ((14, ' '), 'Q'), ((15, ' '), 'P'), ((16, ' '), 'G'), ((17, ' '), 'R'), ((18, ' '), 'S'), ((19, ' '), 'L'), ((20, ' '), 'R'), ((21, ' '), 'L'), ((22, ' '), 'S'), ((23, ' '), 'C'), ((24, ' '), 'A'), ((25, ' '), 'A'), ((26, ' '), 'S'), ((27, ' '), 'G'), ((28, ' '), 'F'), ((29, ' '), 'T'), ((30, ' '), 'F'), ((31, ' '), '-'), ((32, ' '), '-'), ((33, ' '), '-'), ((34, ' '), '-'), ((35, ' '), 'D'), ((36, ' '), 'D'), ((37, ' '), 'Y'), ((38, ' '), 'A'), ((39, ' '), 'M'), ((40, ' '), 'H'), ((41, ' '), 'W'), ((42, ' '), 'V'), ((43, ' '), 'R'), ((44, ' '), 'Q'), ((45, ' '), 'A'), ((46, ' '), 'P'), ((47, ' '), 'G'), ((48, ' '), 'K'), ((49, ' '), 'G'), ((50, ' '), 'L'), ((51, ' '), 'E'), ((52, ' '), 'W'), ((53, ' '), 'V'), ((54, ' '), 'S'), ((55, ' '), 'G'), ((56, ' '), 'I'), ((57, ' '), 'S'), ((58, ' '), 'W'), ((59, ' '), 'N'), ((60, ' '), '-'), ((61, ' '), '-'), ((62, ' '), 'S'), ((63, ' '), 'G'), ((64, ' '), 'S'), ((65, ' '), 'I'), ((66, ' '), 'V'), ((67, ' '), 'Y'), ((68, ' '), 'A'), ((69, ' '), 'D'), ((70, ' '), 'S'), ((71, ' '), 'V'), ((72, ' '), 'K'), ((73, ' '), '-'), ((74, ' '), 'G'), ((75, ' '), 'R'), ((76, ' '), 'F'), ((77, ' '), 'T'), ((78, ' '), 'S'), ((79, ' '), 'S'), ((80, ' '), 'R'), ((81, ' '), 'D'), ((82, ' '), 'N'), ((83, ' '), 'A'), ((84, ' '), 'K'), ((85, ' '), 'N'), ((86, ' '), 'S'), ((87, ' '), 'L'), ((88, ' '), 'Y'), ((89, ' '), 'L'), ((90, ' '), 'Q'), ((91, ' '), 'M'), ((92, ' '), 'N'), ((93, ' '), 'S'), ((94, ' '), 'L'), ((95, ' '), 'R'), ((96, ' '), 'A'), ((97, ' '), 'E'), ((98, ' '), 'D'), ((99, ' '), 'T'), ((100, ' '), 'A'), ((101, ' '), 'L'), ((102, ' '), 'Y'), ((103, ' '), 'Y'), ((104, ' '), 'C'), ((105, ' '), 'A'), ((106, ' '), 'K'), ((107, ' '), 'D'), ((108, ' '), 'Y'), ((109, ' '), 'R'), ((110, ' '), 'P'), ((111, ' '), 'E'), ((111, 'A'), 'P'), ((111, 'B'), 'G'), ((111, 'C'), 'V'), ((111, 'D'), 'A'), ((111, 'E'), 'T'), ((112, 'E'), 'I'), ((112, 'D'), 'G'), ((112, 'C'), 'T'), ((112, 'B'), 'Y'), ((112, 'A'), 'Y'), ((112, ' '), 'Y'), ((113, ' '), 'Y'), ((114, ' '), 'G'), ((115, ' '), 'M'), ((116, ' '), 'D'), ((117, ' '), 'V'), ((118, ' '), 'W'), ((119, ' '), 'G'), ((120, ' '), 'Q'), ((121, ' '), 'G'), ((122, ' '), 'T'), ((123, ' '), 'T'), ((124, ' '), 'V'), ((125, ' '), 'T'), ((126, ' '), 'V'), ((127, ' '), 'S'), ((128, ' '), 'S')]\n",
      "This is the bit of the sequence it corresponds to: EVQLVESGGGLVQPGRSLRLSCAASGFTFDDYAMHWVRQAPGKGLEWVSGISWNSGSIVYADSVKGRFTSSRDNAKNSLYLQMNSLRAEDTALYYCAKDYRPEPGVATIGTYYYYGMDVWGQGTTVTVSS\n",
      "These are the details of the alignment:\n",
      "id : alpaca_H\n",
      "description : \n",
      "evalue : 3.9e-60\n",
      "bitscore : 192.9\n",
      "bias : 2.8\n",
      "query_start : 0\n",
      "query_end : 130\n",
      "species : alpaca\n",
      "chain_type : H\n",
      "scheme : imgt\n",
      "query_name : 4\n",
      "This is the summary of the hits that HMMER found\n",
      "['id', 'description', 'evalue', 'bitscore', 'bias', 'query_start', 'query_end']\n",
      "['alpaca_H', '', 3.9e-60, 192.9, 2.8, 0, 130]\n",
      "['human_H', '', 2.9e-56, 180.2, 1.8, 0, 130]\n",
      "['rhesus_H', '', 2.8e-54, 173.8, 2.8, 0, 130]\n",
      "['pig_H', '', 4.9e-54, 173.2, 2.4, 0, 130]\n",
      "['mouse_H', '', 1.2e-51, 165.2, 1.0, 0, 130]\n",
      "['rabbit_H', '', 1.5e-44, 142.3, 0.8, 2, 130]\n",
      "['cow_H', '', 1.5e-35, 113.0, 0.9, 1, 130]\n",
      "\n",
      " ________________________________________\n"
     ]
    }
   ],
   "source": [
    "sequences = h_input\n",
    "for i in range(1):    \n",
    "    if numbering[i] is None:\n",
    "        print('ANARCI did not number', sequences[i][0])\n",
    "    else:\n",
    "        print('ANARCI numbered', sequences[i][0])\n",
    "        print('It identified %d domain(s)'%len(numbering[i]))\n",
    "        \n",
    "        # Iterate over the domains\n",
    "        for j in range(len(numbering[i])):\n",
    "            domain_numbering, start_index, end_index = numbering[i][j]\n",
    "            print('This is the IMGT numbering for the %d\\'th domain:'%j, domain_numbering)\n",
    "            print('This is the bit of the sequence it corresponds to:', sequences[i][1][start_index:end_index+1])\n",
    "            print('These are the details of the alignment:')\n",
    "            for (key,value) in alignment_details[i][j].items():\n",
    "                print(key, ':', value)\n",
    "            print('This is the summary of the hits that HMMER found')\n",
    "            for line in hit_tables[i]:\n",
    "                print(line)      \n",
    "    print('\\n','_'*40)"
   ]
  },
  {
   "cell_type": "code",
   "execution_count": 25,
   "metadata": {},
   "outputs": [
    {
     "data": {
      "text/plain": [
       "[{'id': 'alpaca_H',\n",
       "  'description': '',\n",
       "  'evalue': 3.9e-60,\n",
       "  'bitscore': 192.9,\n",
       "  'bias': 2.8,\n",
       "  'query_start': 0,\n",
       "  'query_end': 130,\n",
       "  'species': 'alpaca',\n",
       "  'chain_type': 'H',\n",
       "  'scheme': 'imgt',\n",
       "  'query_name': '4'}]"
      ]
     },
     "execution_count": 25,
     "metadata": {},
     "output_type": "execute_result"
    }
   ],
   "source": [
    "alignment_details[0]"
   ]
  },
  {
   "cell_type": "code",
   "execution_count": 26,
   "metadata": {},
   "outputs": [
    {
     "data": {
      "text/plain": [
       "[['id',\n",
       "  'description',\n",
       "  'evalue',\n",
       "  'bitscore',\n",
       "  'bias',\n",
       "  'query_start',\n",
       "  'query_end'],\n",
       " ['alpaca_H', '', 3.9e-60, 192.9, 2.8, 0, 130],\n",
       " ['human_H', '', 2.9e-56, 180.2, 1.8, 0, 130],\n",
       " ['rhesus_H', '', 2.8e-54, 173.8, 2.8, 0, 130],\n",
       " ['pig_H', '', 4.9e-54, 173.2, 2.4, 0, 130],\n",
       " ['mouse_H', '', 1.2e-51, 165.2, 1.0, 0, 130],\n",
       " ['rabbit_H', '', 1.5e-44, 142.3, 0.8, 2, 130],\n",
       " ['cow_H', '', 1.5e-35, 113.0, 0.9, 1, 130]]"
      ]
     },
     "execution_count": 26,
     "metadata": {},
     "output_type": "execute_result"
    }
   ],
   "source": [
    "hit_tables[0]  "
   ]
  },
  {
   "cell_type": "code",
   "execution_count": 15,
   "metadata": {},
   "outputs": [],
   "source": [
    "numbering_2, chain_type = number('EVQLVESGGGLVQPGRSLRLSCAASGFTFDDYAMHWVRQAPGKGLEWVSGISWNSGSIVYADSVKGRFTSSRDNAKNSLYLQMNSLRAEDTALYYCAKDYRPEPGVATIGTYYYYGMDVWGQGTTVTVSS')"
   ]
  },
  {
   "cell_type": "code",
   "execution_count": 16,
   "metadata": {},
   "outputs": [
    {
     "name": "stdout",
     "output_type": "stream",
     "text": [
      "[((1, ' '), 'E'), ((2, ' '), 'V'), ((3, ' '), 'Q'), ((4, ' '), 'L'), ((5, ' '), 'V'), ((6, ' '), 'E'), ((7, ' '), 'S'), ((8, ' '), 'G'), ((9, ' '), 'G'), ((10, ' '), '-'), ((11, ' '), 'G'), ((12, ' '), 'L'), ((13, ' '), 'V'), ((14, ' '), 'Q'), ((15, ' '), 'P'), ((16, ' '), 'G'), ((17, ' '), 'R'), ((18, ' '), 'S'), ((19, ' '), 'L'), ((20, ' '), 'R'), ((21, ' '), 'L'), ((22, ' '), 'S'), ((23, ' '), 'C'), ((24, ' '), 'A'), ((25, ' '), 'A'), ((26, ' '), 'S'), ((27, ' '), 'G'), ((28, ' '), 'F'), ((29, ' '), 'T'), ((30, ' '), 'F'), ((31, ' '), '-'), ((32, ' '), '-'), ((33, ' '), '-'), ((34, ' '), '-'), ((35, ' '), 'D'), ((36, ' '), 'D'), ((37, ' '), 'Y'), ((38, ' '), 'A'), ((39, ' '), 'M'), ((40, ' '), 'H'), ((41, ' '), 'W'), ((42, ' '), 'V'), ((43, ' '), 'R'), ((44, ' '), 'Q'), ((45, ' '), 'A'), ((46, ' '), 'P'), ((47, ' '), 'G'), ((48, ' '), 'K'), ((49, ' '), 'G'), ((50, ' '), 'L'), ((51, ' '), 'E'), ((52, ' '), 'W'), ((53, ' '), 'V'), ((54, ' '), 'S'), ((55, ' '), 'G'), ((56, ' '), 'I'), ((57, ' '), 'S'), ((58, ' '), 'W'), ((59, ' '), 'N'), ((60, ' '), '-'), ((61, ' '), '-'), ((62, ' '), 'S'), ((63, ' '), 'G'), ((64, ' '), 'S'), ((65, ' '), 'I'), ((66, ' '), 'V'), ((67, ' '), 'Y'), ((68, ' '), 'A'), ((69, ' '), 'D'), ((70, ' '), 'S'), ((71, ' '), 'V'), ((72, ' '), 'K'), ((73, ' '), '-'), ((74, ' '), 'G'), ((75, ' '), 'R'), ((76, ' '), 'F'), ((77, ' '), 'T'), ((78, ' '), 'S'), ((79, ' '), 'S'), ((80, ' '), 'R'), ((81, ' '), 'D'), ((82, ' '), 'N'), ((83, ' '), 'A'), ((84, ' '), 'K'), ((85, ' '), 'N'), ((86, ' '), 'S'), ((87, ' '), 'L'), ((88, ' '), 'Y'), ((89, ' '), 'L'), ((90, ' '), 'Q'), ((91, ' '), 'M'), ((92, ' '), 'N'), ((93, ' '), 'S'), ((94, ' '), 'L'), ((95, ' '), 'R'), ((96, ' '), 'A'), ((97, ' '), 'E'), ((98, ' '), 'D'), ((99, ' '), 'T'), ((100, ' '), 'A'), ((101, ' '), 'L'), ((102, ' '), 'Y'), ((103, ' '), 'Y'), ((104, ' '), 'C'), ((105, ' '), 'A'), ((106, ' '), 'K'), ((107, ' '), 'D'), ((108, ' '), 'Y'), ((109, ' '), 'R'), ((110, ' '), 'P'), ((111, ' '), 'E'), ((111, 'A'), 'P'), ((111, 'B'), 'G'), ((111, 'C'), 'V'), ((111, 'D'), 'A'), ((111, 'E'), 'T'), ((112, 'E'), 'I'), ((112, 'D'), 'G'), ((112, 'C'), 'T'), ((112, 'B'), 'Y'), ((112, 'A'), 'Y'), ((112, ' '), 'Y'), ((113, ' '), 'Y'), ((114, ' '), 'G'), ((115, ' '), 'M'), ((116, ' '), 'D'), ((117, ' '), 'V'), ((118, ' '), 'W'), ((119, ' '), 'G'), ((120, ' '), 'Q'), ((121, ' '), 'G'), ((122, ' '), 'T'), ((123, ' '), 'T'), ((124, ' '), 'V'), ((125, ' '), 'T'), ((126, ' '), 'V'), ((127, ' '), 'S'), ((128, ' '), 'S')]\n"
     ]
    }
   ],
   "source": [
    "print(numbering_2, chain_type)"
   ]
  }
 ],
 "metadata": {
  "kernelspec": {
   "display_name": "Python 3.11.0 ('bioinfo')",
   "language": "python",
   "name": "python3"
  },
  "language_info": {
   "codemirror_mode": {
    "name": "ipython",
    "version": 3
   },
   "file_extension": ".py",
   "mimetype": "text/x-python",
   "name": "python",
   "nbconvert_exporter": "python",
   "pygments_lexer": "ipython3",
   "version": "3.11.0"
  },
  "orig_nbformat": 4,
  "vscode": {
   "interpreter": {
    "hash": "886cd548bc8ebd5a711fc393b7f746638841d0692945d85de1f9436d717e8bed"
   }
  }
 },
 "nbformat": 4,
 "nbformat_minor": 2
}
