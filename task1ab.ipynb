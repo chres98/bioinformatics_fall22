{
 "cells": [
  {
   "cell_type": "code",
   "execution_count": 1,
   "metadata": {},
   "outputs": [],
   "source": [
    "from Bio import SeqIO, AlignIO\n",
    "from Bio.Align.Applications import MuscleCommandline\n",
    "import subprocess\n",
    "import sys\n",
    "#help(MuscleCommandline)"
   ]
  },
  {
   "cell_type": "code",
   "execution_count": 2,
   "metadata": {},
   "outputs": [
    {
     "name": "stdout",
     "output_type": "stream",
     "text": [
      "muscle -in data/human.fa -out data/human_aligned_1.fasta\n"
     ]
    }
   ],
   "source": [
    "muscle_exe = \"~/Downloads/muscle5.1.linux_intel64\"\n",
    "in_file = \"data/human.fa\"\n",
    "out_file = \"data/human_aligned_1.fasta\"\n",
    "\n",
    "muscle_cline = MuscleCommandline(input=in_file, out=out_file)\n",
    "# try quicktree\n",
    "print(muscle_cline)"
   ]
  },
  {
   "cell_type": "code",
   "execution_count": 3,
   "metadata": {},
   "outputs": [
    {
     "ename": "ApplicationError",
     "evalue": "Non-zero return code 137 from 'muscle -in data/human.fa -out data/human_aligned_1.fasta', message 'MUSCLE v3.8.31 by Robert C. Edgar'",
     "output_type": "error",
     "traceback": [
      "\u001b[0;31m---------------------------------------------------------------------------\u001b[0m",
      "\u001b[0;31mApplicationError\u001b[0m                          Traceback (most recent call last)",
      "\u001b[1;32m/home/enrico/Desktop/lecture_notes/erasmus/bioinformatics/project/bioinformatics_fall22/task1ab.ipynb Cell 3\u001b[0m in \u001b[0;36m<cell line: 1>\u001b[0;34m()\u001b[0m\n\u001b[0;32m----> <a href='vscode-notebook-cell:/home/enrico/Desktop/lecture_notes/erasmus/bioinformatics/project/bioinformatics_fall22/task1ab.ipynb#W4sZmlsZQ%3D%3D?line=0'>1</a>\u001b[0m stdout, stderr \u001b[39m=\u001b[39m muscle_cline()\n\u001b[1;32m      <a href='vscode-notebook-cell:/home/enrico/Desktop/lecture_notes/erasmus/bioinformatics/project/bioinformatics_fall22/task1ab.ipynb#W4sZmlsZQ%3D%3D?line=1'>2</a>\u001b[0m align \u001b[39m=\u001b[39m AlignIO\u001b[39m.\u001b[39mread(StringIO(stdout), \u001b[39m\"\u001b[39m\u001b[39mfasta\u001b[39m\u001b[39m\"\u001b[39m)\n",
      "File \u001b[0;32m/usr/local/lib/python3.10/dist-packages/Bio/Application/__init__.py:574\u001b[0m, in \u001b[0;36mAbstractCommandline.__call__\u001b[0;34m(self, stdin, stdout, stderr, cwd, env)\u001b[0m\n\u001b[1;32m    571\u001b[0m     stderr_arg\u001b[39m.\u001b[39mclose()\n\u001b[1;32m    573\u001b[0m \u001b[39mif\u001b[39;00m return_code:\n\u001b[0;32m--> 574\u001b[0m     \u001b[39mraise\u001b[39;00m ApplicationError(return_code, \u001b[39mstr\u001b[39m(\u001b[39mself\u001b[39m), stdout_str, stderr_str)\n\u001b[1;32m    575\u001b[0m \u001b[39mreturn\u001b[39;00m stdout_str, stderr_str\n",
      "\u001b[0;31mApplicationError\u001b[0m: Non-zero return code 137 from 'muscle -in data/human.fa -out data/human_aligned_1.fasta', message 'MUSCLE v3.8.31 by Robert C. Edgar'"
     ]
    }
   ],
   "source": [
    "stdout, stderr = muscle_cline()\n",
    "align = AlignIO.read(StringIO(stdout), \"fasta\")"
   ]
  },
  {
   "cell_type": "code",
   "execution_count": null,
   "metadata": {},
   "outputs": [],
   "source": [
    "#child = subprocess.Popen(str(muscle_cline),\n",
    "#    stdout=subprocess.PIPE,\n",
    "#    stderr=subprocess.PIPE,\n",
    "#    shell=(sys.platform!=\"win32\"),\n",
    "#    universal_newlines=True)"
   ]
  },
  {
   "cell_type": "code",
   "execution_count": null,
   "metadata": {},
   "outputs": [],
   "source": [
    "#align = AlignIO.read(child.stdout, \"fasta\")\n",
    "#print(align)"
   ]
  }
 ],
 "metadata": {
  "kernelspec": {
   "display_name": "Python 3.10.6 64-bit",
   "language": "python",
   "name": "python3"
  },
  "language_info": {
   "codemirror_mode": {
    "name": "ipython",
    "version": 3
   },
   "file_extension": ".py",
   "mimetype": "text/x-python",
   "name": "python",
   "nbconvert_exporter": "python",
   "pygments_lexer": "ipython3",
   "version": "3.10.6"
  },
  "orig_nbformat": 4,
  "vscode": {
   "interpreter": {
    "hash": "916dbcbb3f70747c44a77c7bcd40155683ae19c65e1c03b4aa3499c5328201f1"
   }
  }
 },
 "nbformat": 4,
 "nbformat_minor": 2
}
